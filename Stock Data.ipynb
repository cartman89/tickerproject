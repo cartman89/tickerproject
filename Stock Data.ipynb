{
 "cells": [
  {
   "cell_type": "code",
   "execution_count": 4,
   "metadata": {
    "collapsed": true
   },
   "outputs": [],
   "source": [
    "import quandl\n",
    "quandl.ApiConfig.api_key = \"x34ca9wEx9rCfwLF54px\""
   ]
  },
  {
   "cell_type": "code",
   "execution_count": 5,
   "metadata": {},
   "outputs": [],
   "source": [
    "data = quandl.get_table('WIKI/PRICES', qopts = { 'columns': ['ticker', 'date', 'close'] }, ticker = ['AAPL', 'MSFT'], date = { 'gte': '2016-01-01', 'lte': '2016-12-31' })"
   ]
  },
  {
   "cell_type": "code",
   "execution_count": null,
   "metadata": {
    "collapsed": true
   },
   "outputs": [],
   "source": [
    "data[\"date\"]"
   ]
  },
  {
   "cell_type": "code",
   "execution_count": 6,
   "metadata": {
    "collapsed": true
   },
   "outputs": [],
   "source": [
    "import bokeh\n",
    "import pandas as pd\n",
    "from bokeh.plotting import figure, output_file, show\n",
    "from bokeh.io import output_notebook"
   ]
  },
  {
   "cell_type": "code",
   "execution_count": 9,
   "metadata": {
    "collapsed": true
   },
   "outputs": [],
   "source": [
    "def stock_plot(data):\n",
    "\n",
    "    ticker = raw_input(\"Please enter ticker name: \")\n",
    "    month = raw_input(\"Please enter month: \")\n",
    "    data = data[data.ticker==ticker.upper()]\n",
    "    data = data[data['date'].map(lambda x: x.month)==int(month)]\n",
    "    # df['date'] = pd.to_datetime(df['date'])\n",
    "\n",
    "#     output_notebook()\n",
    "    output_file(filename=\"stock.html\",title=\"Closing Price\")\n",
    "    # create a new plot with a datetime axis type\n",
    "    p = figure(plot_width=800, plot_height=250, x_axis_type=\"datetime\")\n",
    "\n",
    "    p.line(data['date'], data['close'], color='navy', alpha=0.5)\n",
    "\n",
    "    show(p)"
   ]
  },
  {
   "cell_type": "code",
   "execution_count": null,
   "metadata": {},
   "outputs": [
    {
     "name": "stdout",
     "output_type": "stream",
     "text": [
      "Please enter ticker name: aapl\n",
      "Please enter month: 1\n"
     ]
    },
    {
     "data": {
      "text/html": [
       "\n",
       "\n",
       "    <div class=\"bk-root\">\n",
       "        <div class=\"bk-plotdiv\" id=\"03c98b47-f4d3-4b6d-bd3e-2119b87069b8\"></div>\n",
       "    </div>\n",
       "<script type=\"text/javascript\">\n",
       "  \n",
       "  (function(global) {\n",
       "    function now() {\n",
       "      return new Date();\n",
       "    }\n",
       "\n",
       "    var force = false;\n",
       "\n",
       "    if (typeof (window._bokeh_onload_callbacks) === \"undefined\" || force === true) {\n",
       "      window._bokeh_onload_callbacks = [];\n",
       "      window._bokeh_is_loading = undefined;\n",
       "    }\n",
       "\n",
       "\n",
       "    \n",
       "    if (typeof (window._bokeh_timeout) === \"undefined\" || force === true) {\n",
       "      window._bokeh_timeout = Date.now() + 0;\n",
       "      window._bokeh_failed_load = false;\n",
       "    }\n",
       "\n",
       "    var NB_LOAD_WARNING = {'data': {'text/html':\n",
       "       \"<div style='background-color: #fdd'>\\n\"+\n",
       "       \"<p>\\n\"+\n",
       "       \"BokehJS does not appear to have successfully loaded. If loading BokehJS from CDN, this \\n\"+\n",
       "       \"may be due to a slow or bad network connection. Possible fixes:\\n\"+\n",
       "       \"</p>\\n\"+\n",
       "       \"<ul>\\n\"+\n",
       "       \"<li>re-rerun `output_notebook()` to attempt to load from CDN again, or</li>\\n\"+\n",
       "       \"<li>use INLINE resources instead, as so:</li>\\n\"+\n",
       "       \"</ul>\\n\"+\n",
       "       \"<code>\\n\"+\n",
       "       \"from bokeh.resources import INLINE\\n\"+\n",
       "       \"output_notebook(resources=INLINE)\\n\"+\n",
       "       \"</code>\\n\"+\n",
       "       \"</div>\"}};\n",
       "\n",
       "    function display_loaded() {\n",
       "      if (window.Bokeh !== undefined) {\n",
       "        document.getElementById(\"03c98b47-f4d3-4b6d-bd3e-2119b87069b8\").textContent = \"BokehJS successfully loaded.\";\n",
       "      } else if (Date.now() < window._bokeh_timeout) {\n",
       "        setTimeout(display_loaded, 100)\n",
       "      }\n",
       "    }\n",
       "\n",
       "    function run_callbacks() {\n",
       "      window._bokeh_onload_callbacks.forEach(function(callback) { callback() });\n",
       "      delete window._bokeh_onload_callbacks\n",
       "      console.info(\"Bokeh: all callbacks have finished\");\n",
       "    }\n",
       "\n",
       "    function load_libs(js_urls, callback) {\n",
       "      window._bokeh_onload_callbacks.push(callback);\n",
       "      if (window._bokeh_is_loading > 0) {\n",
       "        console.log(\"Bokeh: BokehJS is being loaded, scheduling callback at\", now());\n",
       "        return null;\n",
       "      }\n",
       "      if (js_urls == null || js_urls.length === 0) {\n",
       "        run_callbacks();\n",
       "        return null;\n",
       "      }\n",
       "      console.log(\"Bokeh: BokehJS not loaded, scheduling load and callback at\", now());\n",
       "      window._bokeh_is_loading = js_urls.length;\n",
       "      for (var i = 0; i < js_urls.length; i++) {\n",
       "        var url = js_urls[i];\n",
       "        var s = document.createElement('script');\n",
       "        s.src = url;\n",
       "        s.async = false;\n",
       "        s.onreadystatechange = s.onload = function() {\n",
       "          window._bokeh_is_loading--;\n",
       "          if (window._bokeh_is_loading === 0) {\n",
       "            console.log(\"Bokeh: all BokehJS libraries loaded\");\n",
       "            run_callbacks()\n",
       "          }\n",
       "        };\n",
       "        s.onerror = function() {\n",
       "          console.warn(\"failed to load library \" + url);\n",
       "        };\n",
       "        console.log(\"Bokeh: injecting script tag for BokehJS library: \", url);\n",
       "        document.getElementsByTagName(\"head\")[0].appendChild(s);\n",
       "      }\n",
       "    };var element = document.getElementById(\"03c98b47-f4d3-4b6d-bd3e-2119b87069b8\");\n",
       "    if (element == null) {\n",
       "      console.log(\"Bokeh: ERROR: autoload.js configured with elementid '03c98b47-f4d3-4b6d-bd3e-2119b87069b8' but no matching script tag was found. \")\n",
       "      return false;\n",
       "    }\n",
       "\n",
       "    var js_urls = [];\n",
       "\n",
       "    var inline_js = [\n",
       "      function(Bokeh) {\n",
       "        (function() {\n",
       "          var fn = function() {\n",
       "            var docs_json = {\"97c02cc9-4f69-4eca-b199-25928c543e0e\":{\"roots\":{\"references\":[{\"attributes\":{},\"id\":\"b865394f-5bdc-481f-8ef5-a75433bf99da\",\"type\":\"ToolEvents\"},{\"attributes\":{\"months\":[0,1,2,3,4,5,6,7,8,9,10,11]},\"id\":\"7a2fb45c-b6d9-4c81-892f-b234feb96278\",\"type\":\"MonthsTicker\"},{\"attributes\":{\"line_alpha\":{\"value\":0.1},\"line_color\":{\"value\":\"#1f77b4\"},\"x\":{\"field\":\"x\"},\"y\":{\"field\":\"y\"}},\"id\":\"bb9293a7-be51-450c-95cc-e6f75955d588\",\"type\":\"Line\"},{\"attributes\":{\"base\":24,\"mantissas\":[1,2,4,6,8,12],\"max_interval\":43200000.0,\"min_interval\":3600000.0,\"num_minor_ticks\":0},\"id\":\"1f4ea2cb-164a-4bab-932d-bcf46b69fc9d\",\"type\":\"AdaptiveTicker\"},{\"attributes\":{\"formatter\":{\"id\":\"bab82c86-f971-4de2-aaa8-bd454c263ad0\",\"type\":\"DatetimeTickFormatter\"},\"plot\":{\"id\":\"ce96f744-3c92-43d9-ae2d-00efb2ca3f3a\",\"subtype\":\"Figure\",\"type\":\"Plot\"},\"ticker\":{\"id\":\"ed6f34ef-8db7-4c5e-add8-95366cfdc066\",\"type\":\"DatetimeTicker\"}},\"id\":\"a1e514b4-0ff2-4c52-b382-278d22186fcd\",\"type\":\"DatetimeAxis\"},{\"attributes\":{\"callback\":null},\"id\":\"46e9ab29-2506-4f8a-8418-0a239ad32f6a\",\"type\":\"DataRange1d\"},{\"attributes\":{\"plot\":{\"id\":\"ce96f744-3c92-43d9-ae2d-00efb2ca3f3a\",\"subtype\":\"Figure\",\"type\":\"Plot\"}},\"id\":\"950a30fc-9087-49e9-bf16-bfc92eb87145\",\"type\":\"WheelZoomTool\"},{\"attributes\":{\"days\":[1,2,3,4,5,6,7,8,9,10,11,12,13,14,15,16,17,18,19,20,21,22,23,24,25,26,27,28,29,30,31]},\"id\":\"51e3fe9c-23e1-437b-b0ef-300dedea345f\",\"type\":\"DaysTicker\"},{\"attributes\":{\"plot\":{\"id\":\"ce96f744-3c92-43d9-ae2d-00efb2ca3f3a\",\"subtype\":\"Figure\",\"type\":\"Plot\"}},\"id\":\"ddd9ae5a-ecdc-4c3f-bc83-418095b17310\",\"type\":\"SaveTool\"},{\"attributes\":{\"num_minor_ticks\":5},\"id\":\"ed6f34ef-8db7-4c5e-add8-95366cfdc066\",\"type\":\"DatetimeTicker\"},{\"attributes\":{\"days\":[1,4,7,10,13,16,19,22,25,28]},\"id\":\"fad4578b-287c-4e98-a71b-a05ff788b405\",\"type\":\"DaysTicker\"},{\"attributes\":{\"dimension\":1,\"plot\":{\"id\":\"ce96f744-3c92-43d9-ae2d-00efb2ca3f3a\",\"subtype\":\"Figure\",\"type\":\"Plot\"},\"ticker\":{\"id\":\"c2e8e0ff-64a5-48c3-addc-b6f767940a03\",\"type\":\"BasicTicker\"}},\"id\":\"a6c4f9b9-e5b2-4108-9527-edf24df0a938\",\"type\":\"Grid\"},{\"attributes\":{\"months\":[0,4,8]},\"id\":\"a2c8fe4e-5abe-4fc1-93c0-7e9bfd09c00f\",\"type\":\"MonthsTicker\"},{\"attributes\":{\"plot\":{\"id\":\"ce96f744-3c92-43d9-ae2d-00efb2ca3f3a\",\"subtype\":\"Figure\",\"type\":\"Plot\"}},\"id\":\"2560b364-17a0-4242-98d6-9d7a1f5043e3\",\"type\":\"PanTool\"},{\"attributes\":{\"overlay\":{\"id\":\"806c1fb9-7f0e-40ec-acea-a8060cbc3969\",\"type\":\"BoxAnnotation\"},\"plot\":{\"id\":\"ce96f744-3c92-43d9-ae2d-00efb2ca3f3a\",\"subtype\":\"Figure\",\"type\":\"Plot\"}},\"id\":\"b8ad372a-6880-48aa-8c1e-0bc797bf4901\",\"type\":\"BoxZoomTool\"},{\"attributes\":{\"active_drag\":\"auto\",\"active_scroll\":\"auto\",\"active_tap\":\"auto\",\"tools\":[{\"id\":\"2560b364-17a0-4242-98d6-9d7a1f5043e3\",\"type\":\"PanTool\"},{\"id\":\"950a30fc-9087-49e9-bf16-bfc92eb87145\",\"type\":\"WheelZoomTool\"},{\"id\":\"b8ad372a-6880-48aa-8c1e-0bc797bf4901\",\"type\":\"BoxZoomTool\"},{\"id\":\"ddd9ae5a-ecdc-4c3f-bc83-418095b17310\",\"type\":\"SaveTool\"},{\"id\":\"8240f429-4b9b-4e75-a60d-61d4caca9381\",\"type\":\"ResetTool\"},{\"id\":\"0ec0c0b1-a529-4347-b4fb-b309d88c19d7\",\"type\":\"HelpTool\"}]},\"id\":\"63d672ea-dcf6-45f2-b968-a0cec2aac2c9\",\"type\":\"Toolbar\"},{\"attributes\":{\"days\":[1,15]},\"id\":\"13c125a7-ded0-4b54-bad1-55dc9abdc92b\",\"type\":\"DaysTicker\"},{\"attributes\":{\"base\":60,\"mantissas\":[1,2,5,10,15,20,30],\"max_interval\":1800000.0,\"min_interval\":1000.0,\"num_minor_ticks\":0},\"id\":\"378fe32b-03a8-4930-b1a7-4fdb1775fcec\",\"type\":\"AdaptiveTicker\"},{\"attributes\":{\"formatter\":{\"id\":\"24c08a56-02d8-40bb-8beb-3371064d132b\",\"type\":\"BasicTickFormatter\"},\"plot\":{\"id\":\"ce96f744-3c92-43d9-ae2d-00efb2ca3f3a\",\"subtype\":\"Figure\",\"type\":\"Plot\"},\"ticker\":{\"id\":\"c2e8e0ff-64a5-48c3-addc-b6f767940a03\",\"type\":\"BasicTicker\"}},\"id\":\"198b4e7b-cbdb-4933-8613-66a999b79de8\",\"type\":\"LinearAxis\"},{\"attributes\":{},\"id\":\"24c08a56-02d8-40bb-8beb-3371064d132b\",\"type\":\"BasicTickFormatter\"},{\"attributes\":{},\"id\":\"c2e8e0ff-64a5-48c3-addc-b6f767940a03\",\"type\":\"BasicTicker\"},{\"attributes\":{\"plot\":{\"id\":\"ce96f744-3c92-43d9-ae2d-00efb2ca3f3a\",\"subtype\":\"Figure\",\"type\":\"Plot\"},\"ticker\":{\"id\":\"ed6f34ef-8db7-4c5e-add8-95366cfdc066\",\"type\":\"DatetimeTicker\"}},\"id\":\"f4d8e145-29c5-47bb-a75b-adde0f057373\",\"type\":\"Grid\"},{\"attributes\":{\"line_alpha\":{\"value\":0.5},\"line_color\":{\"value\":\"navy\"},\"x\":{\"field\":\"x\"},\"y\":{\"field\":\"y\"}},\"id\":\"92918352-8d95-4310-bbb0-ead461faba5c\",\"type\":\"Line\"},{\"attributes\":{\"below\":[{\"id\":\"a1e514b4-0ff2-4c52-b382-278d22186fcd\",\"type\":\"DatetimeAxis\"}],\"left\":[{\"id\":\"198b4e7b-cbdb-4933-8613-66a999b79de8\",\"type\":\"LinearAxis\"}],\"plot_height\":250,\"plot_width\":800,\"renderers\":[{\"id\":\"a1e514b4-0ff2-4c52-b382-278d22186fcd\",\"type\":\"DatetimeAxis\"},{\"id\":\"f4d8e145-29c5-47bb-a75b-adde0f057373\",\"type\":\"Grid\"},{\"id\":\"198b4e7b-cbdb-4933-8613-66a999b79de8\",\"type\":\"LinearAxis\"},{\"id\":\"a6c4f9b9-e5b2-4108-9527-edf24df0a938\",\"type\":\"Grid\"},{\"id\":\"806c1fb9-7f0e-40ec-acea-a8060cbc3969\",\"type\":\"BoxAnnotation\"},{\"id\":\"a519368e-efa7-44f0-b6cf-6ec1b47313e0\",\"type\":\"GlyphRenderer\"}],\"title\":{\"id\":\"606a19de-9d63-45ad-836a-56609ae66b2f\",\"type\":\"Title\"},\"tool_events\":{\"id\":\"b865394f-5bdc-481f-8ef5-a75433bf99da\",\"type\":\"ToolEvents\"},\"toolbar\":{\"id\":\"63d672ea-dcf6-45f2-b968-a0cec2aac2c9\",\"type\":\"Toolbar\"},\"x_range\":{\"id\":\"46e9ab29-2506-4f8a-8418-0a239ad32f6a\",\"type\":\"DataRange1d\"},\"y_range\":{\"id\":\"1840fde9-4668-4961-b707-92bcd0016191\",\"type\":\"DataRange1d\"}},\"id\":\"ce96f744-3c92-43d9-ae2d-00efb2ca3f3a\",\"subtype\":\"Figure\",\"type\":\"Plot\"},{\"attributes\":{\"plot\":{\"id\":\"ce96f744-3c92-43d9-ae2d-00efb2ca3f3a\",\"subtype\":\"Figure\",\"type\":\"Plot\"}},\"id\":\"8240f429-4b9b-4e75-a60d-61d4caca9381\",\"type\":\"ResetTool\"},{\"attributes\":{\"months\":[0,6]},\"id\":\"27b4dd16-a88f-4331-922f-a7539678ca3c\",\"type\":\"MonthsTicker\"},{\"attributes\":{\"callback\":null},\"id\":\"1840fde9-4668-4961-b707-92bcd0016191\",\"type\":\"DataRange1d\"},{\"attributes\":{\"data_source\":{\"id\":\"6809c8b8-078d-4051-a6b4-f1a58d2b2d59\",\"type\":\"ColumnDataSource\"},\"glyph\":{\"id\":\"92918352-8d95-4310-bbb0-ead461faba5c\",\"type\":\"Line\"},\"hover_glyph\":null,\"nonselection_glyph\":{\"id\":\"bb9293a7-be51-450c-95cc-e6f75955d588\",\"type\":\"Line\"},\"selection_glyph\":null},\"id\":\"a519368e-efa7-44f0-b6cf-6ec1b47313e0\",\"type\":\"GlyphRenderer\"},{\"attributes\":{},\"id\":\"f3bf1c39-9fa8-44e0-a2fa-65c9eb905a28\",\"type\":\"YearsTicker\"},{\"attributes\":{\"plot\":{\"id\":\"ce96f744-3c92-43d9-ae2d-00efb2ca3f3a\",\"subtype\":\"Figure\",\"type\":\"Plot\"}},\"id\":\"0ec0c0b1-a529-4347-b4fb-b309d88c19d7\",\"type\":\"HelpTool\"},{\"attributes\":{},\"id\":\"bab82c86-f971-4de2-aaa8-bd454c263ad0\",\"type\":\"DatetimeTickFormatter\"},{\"attributes\":{\"plot\":null,\"text\":\"\"},\"id\":\"606a19de-9d63-45ad-836a-56609ae66b2f\",\"type\":\"Title\"},{\"attributes\":{\"months\":[0,2,4,6,8,10]},\"id\":\"ad2e3e7e-38e6-43af-90e9-3a3c44ea9fc9\",\"type\":\"MonthsTicker\"},{\"attributes\":{\"bottom_units\":\"screen\",\"fill_alpha\":{\"value\":0.5},\"fill_color\":{\"value\":\"lightgrey\"},\"left_units\":\"screen\",\"level\":\"overlay\",\"line_alpha\":{\"value\":1.0},\"line_color\":{\"value\":\"black\"},\"line_dash\":[4,4],\"line_width\":{\"value\":2},\"plot\":null,\"render_mode\":\"css\",\"right_units\":\"screen\",\"top_units\":\"screen\"},\"id\":\"806c1fb9-7f0e-40ec-acea-a8060cbc3969\",\"type\":\"BoxAnnotation\"},{\"attributes\":{\"max_interval\":500.0,\"num_minor_ticks\":0},\"id\":\"b94bcde8-4c42-4f36-b245-d44dcfcf2d9c\",\"type\":\"AdaptiveTicker\"},{\"attributes\":{\"callback\":null,\"column_names\":[\"y\",\"x\"],\"data\":{\"x\":{\"__ndarray__\":\"AAAA754gdUIAAMBU8SB1QgAAgLpDIXVCAABAIJYhdUIAAACG6CF1QgAAQLffInVCAAAAHTIjdUIAAMCChCN1QgAAgOjWI3VCAABATikkdUIAAEDlciV1QgAAAEvFJXVCAADAsBcmdUIAAIAWaiZ1QgAAwEdhJ3VCAACArbMndUIAAEATBih1QgAAAHlYKHVCAADA3qoodUI=\",\"dtype\":\"float64\",\"shape\":[19]},\"y\":{\"__ndarray__\":\"ZmZmZmZWWkA9CtejcK1ZQM3MzMzMLFlAzczMzMwcWEA9CtejcD1YQFK4HoXroVhAPQrXo3D9WEApXI/C9VhYQOF6FK5H4VhAuB6F61FIWEAK16NwPSpYQMP1KFyPMlhAMzMzMzMTWEB7FK5H4VpZQFyPwvUo3FhAj8L1KFz/WEB7FK5H4VpXQPYoXI/ChVdA9ihcj8JVWEA=\",\"dtype\":\"float64\",\"shape\":[19]}}},\"id\":\"6809c8b8-078d-4051-a6b4-f1a58d2b2d59\",\"type\":\"ColumnDataSource\"},{\"attributes\":{\"days\":[1,8,15,22]},\"id\":\"192582d2-c1c9-4562-8af4-9313d5eac9e3\",\"type\":\"DaysTicker\"}],\"root_ids\":[\"ce96f744-3c92-43d9-ae2d-00efb2ca3f3a\"]},\"title\":\"Bokeh Application\",\"version\":\"0.12.4\"}};\n",
       "            var render_items = [{\"docid\":\"97c02cc9-4f69-4eca-b199-25928c543e0e\",\"elementid\":\"03c98b47-f4d3-4b6d-bd3e-2119b87069b8\",\"modelid\":\"ce96f744-3c92-43d9-ae2d-00efb2ca3f3a\"}];\n",
       "            \n",
       "            Bokeh.embed.embed_items(docs_json, render_items);\n",
       "          };\n",
       "          if (document.readyState != \"loading\") fn();\n",
       "          else document.addEventListener(\"DOMContentLoaded\", fn);\n",
       "        })();\n",
       "\n",
       "      },\n",
       "      function(Bokeh) {\n",
       "      }\n",
       "    ];\n",
       "\n",
       "    function run_inline_js() {\n",
       "      \n",
       "      if ((window.Bokeh !== undefined) || (force === true)) {\n",
       "        for (var i = 0; i < inline_js.length; i++) {\n",
       "          inline_js[i](window.Bokeh);\n",
       "        }if (force === true) {\n",
       "          display_loaded();\n",
       "        }} else if (Date.now() < window._bokeh_timeout) {\n",
       "        setTimeout(run_inline_js, 100);\n",
       "      } else if (!window._bokeh_failed_load) {\n",
       "        console.log(\"Bokeh: BokehJS failed to load within specified timeout.\");\n",
       "        window._bokeh_failed_load = true;\n",
       "      } else if (force !== true) {\n",
       "        var cell = $(document.getElementById(\"03c98b47-f4d3-4b6d-bd3e-2119b87069b8\")).parents('.cell').data().cell;\n",
       "        cell.output_area.append_execute_result(NB_LOAD_WARNING)\n",
       "      }\n",
       "\n",
       "    }\n",
       "\n",
       "    if (window._bokeh_is_loading === 0) {\n",
       "      console.log(\"Bokeh: BokehJS loaded, going straight to plotting\");\n",
       "      run_inline_js();\n",
       "    } else {\n",
       "      load_libs(js_urls, function() {\n",
       "        console.log(\"Bokeh: BokehJS plotting callback run at\", now());\n",
       "        run_inline_js();\n",
       "      });\n",
       "    }\n",
       "  }(this));\n",
       "</script>"
      ]
     },
     "metadata": {},
     "output_type": "display_data"
    }
   ],
   "source": [
    "stock_plot(data)"
   ]
  }
 ],
 "metadata": {
  "kernelspec": {
   "display_name": "Python 2",
   "language": "python",
   "name": "python2"
  },
  "language_info": {
   "codemirror_mode": {
    "name": "ipython",
    "version": 2
   },
   "file_extension": ".py",
   "mimetype": "text/x-python",
   "name": "python",
   "nbconvert_exporter": "python",
   "pygments_lexer": "ipython2",
   "version": "2.7.15"
  }
 },
 "nbformat": 4,
 "nbformat_minor": 2
}
